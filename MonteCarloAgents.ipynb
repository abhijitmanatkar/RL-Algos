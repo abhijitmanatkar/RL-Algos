{
 "cells": [
  {
   "cell_type": "code",
   "execution_count": 1,
   "metadata": {},
   "outputs": [],
   "source": [
    "import gym\n",
    "import gym_toytext\n",
    "import numpy as np\n",
    "from matplotlib import pyplot as plt"
   ]
  },
  {
   "cell_type": "code",
   "execution_count": 2,
   "metadata": {},
   "outputs": [],
   "source": [
    "# The Environment\n",
    "env = gym.make('Roulette-v0')"
   ]
  },
  {
   "cell_type": "markdown",
   "metadata": {},
   "source": [
    "## Plotting Utils"
   ]
  },
  {
   "cell_type": "code",
   "execution_count": 3,
   "metadata": {},
   "outputs": [],
   "source": [
    "def plot_training_returns(rets, title=\"Returns vs. Episodes\", N=10):\n",
    "    X = [i+1 for i in range(len(rets))]\n",
    "    plt.plot(X, rets)\n",
    "    plt.title(title)\n",
    "    plt.xlabel(\"Episodes\")\n",
    "    plt.ylabel(f\" Average returns over N={N} rounds\")\n",
    "    plt.show()"
   ]
  },
  {
   "cell_type": "markdown",
   "metadata": {},
   "source": [
    "# Monte Carlo Agent Class"
   ]
  },
  {
   "cell_type": "code",
   "execution_count": 4,
   "metadata": {},
   "outputs": [],
   "source": [
    "class MonteCarloAgent():\n",
    "    '''\n",
    "    Class for agents which can be trained using on-policy and off-policy Monte Carlo methods\n",
    "    '''\n",
    "\n",
    "    def __init__(self, env, gamma=0.9, epsilon=0.1):\n",
    "        self.env = env\n",
    "\n",
    "        # Agent parameters\n",
    "        self.gamma = gamma\n",
    "        self.epsilon_base = epsilon\n",
    "        self.epsilon = epsilon\n",
    "\n",
    "        # Action space\n",
    "        self.actions = [a for a in range(38)]\n",
    "\n",
    "        # State-action value function\n",
    "        self.Q = [0.0 for action in self.actions]\n",
    "\n",
    "        # Main policy in on-policy learning and target policy for off-policy learning\n",
    "        self.PI = [1/len(self.actions) for action in self.actions]\n",
    "\n",
    "        # Behaviour policy for off-policy learning\n",
    "        self.MU = [1/len(self.actions) for action in self.actions]\n",
    "\n",
    "        # Parameters for off-policy learning\n",
    "        self.C = [0.0 for action in self.actions]\n",
    "        self.returns = [[] for action in self.actions]\n",
    "\n",
    "    # Prints the state-action values self.Q\n",
    "    def printValues(self):\n",
    "        for action in self.actions:\n",
    "            print(self.Q[action], end=\" \")\n",
    "        print()\n",
    "\n",
    "    # Prints out the policy\n",
    "    def printPolicy(self):\n",
    "        for action in self.actions:\n",
    "            print(self.PI[action], end=\" \")\n",
    "        print()\n",
    "\n",
    "    # Reset the Q table and other parameters before training\n",
    "    def reset(self, method=\"on_policy\"):\n",
    "        self.epsilon = self.epsilon_base\n",
    "        self.Q = [0.0 for action in self.actions]\n",
    "        self.C = [0.0 for action in self.actions]\n",
    "        self.returns = [[] for action in self.actions]\n",
    "        \n",
    "        # Main policy in on-policy learning and target policy for off-policy learning\n",
    "        if method == \"on_policy\":\n",
    "            self.PI = [1/len(self.actions) for action in self.actions]\n",
    "        elif method == \"off_policy\":\n",
    "            self.PI = [0.0 for action in self.actions]\n",
    "            self.PI[np.argmax(self.Q)] = 1.0\n",
    "        \n",
    "        # Behaviour policy for off-policy learning\n",
    "        self.MU = [1/len(self.actions) for action in self.actions]\n",
    "        \n",
    "\n",
    "    # Sample an action according to the distribution give by the current policy self.PI\n",
    "    def sample_action(self, policy=None):\n",
    "        policy = self.PI if policy is None else policy\n",
    "        return np.random.choice(self.actions, p=policy)\n",
    "\n",
    "    # Generate an episode while following the current policy\n",
    "    def run(self, policy=None):\n",
    "        policy = self.PI if policy is None else policy\n",
    "        actions = []\n",
    "        rewards = []\n",
    "        ret = 0\n",
    "        done = False\n",
    "        self.env.reset()\n",
    "        while not done:\n",
    "            action = self.sample_action(policy)\n",
    "            observation, reward, done, info = env.step(action)\n",
    "            ret = self.gamma*ret + reward\n",
    "            actions.append(action)\n",
    "            rewards.append(reward)\n",
    "        return actions, rewards, ret\n",
    "\n",
    "    # Returns action with the greatest Q value. In case of tie, action is chosen\n",
    "    # randomly from available actions\n",
    "    def greedy_action(self):\n",
    "        max_action_value = np.max(self.Q)\n",
    "        optimal_actions = [action for action in self.actions if self.Q[action] == max_action_value]\n",
    "        return np.random.choice(optimal_actions)\n",
    "\n",
    "    # Sample one episode and make an on-policy update using first visit Monte-Carlo.\n",
    "    def update_on_policy(self):\n",
    "        actions, rewards, ret = self.run()\n",
    "        first_occurence = [len(actions) for action in self.actions]\n",
    "        \n",
    "        # Store first occurrence of every action in the episdode\n",
    "        for t in range(len(actions) - 1, -1, -1):\n",
    "            first_occurence[actions[t]] = t\n",
    "        \n",
    "        ret = 0\n",
    "        for t in range(len(actions) - 1, -1, -1):\n",
    "            action = actions[t]\n",
    "            reward = rewards[t]\n",
    "            ret = self.gamma*ret + reward\n",
    "            if first_occurence[action] < t:\n",
    "                continue\n",
    "            self.returns[action].append(ret)\n",
    "            self.Q[action] = np.mean(self.returns[action])\n",
    "            action_greedy = np.argmax(self.Q)\n",
    "            for a in self.actions:\n",
    "                self.PI[a] = self.epsilon / len(self.actions)\n",
    "            self.PI[action_greedy] += 1 - self.epsilon\n",
    "\n",
    "    # Run first vist Monte-Carlo for training an on policy agent\n",
    "    # Returns the returns obtained after every iteration of training\n",
    "    def train_on_policy(self, num_iterations=10000, num_runs=5):\n",
    "        self.reset()\n",
    "        rets = []\n",
    "        for iteration in range(1, num_iterations+1):\n",
    "            self.update_on_policy()\n",
    "            runs = [self.run()[2] for _ in range(num_runs)]\n",
    "            rets.append(np.mean(runs))\n",
    "            self.epsilon = 0.9 / iteration\n",
    "        return rets\n",
    "\n",
    "    # Sample one episode using the behaviour policy self.MU and update the target policy self.PI\n",
    "    # using every visit Monte Carlo\n",
    "    def update_off_policy(self):\n",
    "        actions, rewards, ret = self.run(policy=self.MU)\n",
    "        ret = 0\n",
    "        W = 1\n",
    "        for t in range(len(actions) - 1, -1, -1):\n",
    "            action = actions[t]\n",
    "            reward = rewards[t]\n",
    "            ret = self.gamma*ret + reward\n",
    "            self.C[action] = self.C[action] + W\n",
    "            self.Q[action] = self.Q[action] + (W/self.C[action])*(ret - self.Q[action])\n",
    "            action_greedy = np.argmax(self.Q)\n",
    "            for a in self.actions:\n",
    "                self.PI[a] = 0\n",
    "            self.PI[action_greedy] = 1\n",
    "            if action_greedy != action:\n",
    "                break\n",
    "            W = W / self.MU[action]\n",
    "\n",
    "    # Run every vist Monte-Carlo for training an off-policy agent\n",
    "    # Returns the returns obtained after every iteration of training\n",
    "    def train_off_policy(self, num_iterations=10000, num_runs=5):\n",
    "        self.reset(method=\"off_policy\")\n",
    "        rets = []\n",
    "        for iteration in range(1, num_iterations+1):\n",
    "            self.update_off_policy()\n",
    "            runs = [self.run()[2] for _ in range(num_runs)]\n",
    "            rets.append(np.mean(runs))\n",
    "            self.epsilon = 0.9 / iteration\n",
    "        return rets\n"
   ]
  },
  {
   "cell_type": "markdown",
   "metadata": {},
   "source": [
    "## On Policy Monte Carlo Agent"
   ]
  },
  {
   "cell_type": "code",
   "execution_count": 5,
   "metadata": {},
   "outputs": [],
   "source": [
    "# Define and train an agent\n",
    "on_policy_agent = MonteCarloAgent(env)\n",
    "returns = on_policy_agent.train_on_policy(num_iterations=5000)"
   ]
  },
  {
   "cell_type": "code",
   "execution_count": 6,
   "metadata": {},
   "outputs": [
    {
     "data": {
      "image/png": "[encoded data removed]",
      "text/plain": [
       "<Figure size 432x288 with 1 Axes>"
      ]
     },
     "metadata": {
      "needs_background": "light"
     },
     "output_type": "display_data"
    }
   ],
   "source": [
    "# Plot returns\n",
    "plot_training_returns(returns, N=5)"
   ]
  },
  {
   "cell_type": "markdown",
   "metadata": {},
   "source": [
    "## Off Policy Monte Carlo Agent"
   ]
  },
  {
   "cell_type": "code",
   "execution_count": 7,
   "metadata": {},
   "outputs": [],
   "source": [
    "# Define and train an agent\n",
    "off_policy_agent = MonteCarloAgent(env)\n",
    "returns = off_policy_agent.train_off_policy(num_iterations=5000)"
   ]
  },
  {
   "cell_type": "code",
   "execution_count": 8,
   "metadata": {},
   "outputs": [
    {
     "data": {
      "image/png": "[encoded data removed]",
      "text/plain": [
       "<Figure size 432x288 with 1 Axes>"
      ]
     },
     "metadata": {
      "needs_background": "light"
     },
     "output_type": "display_data"
    }
   ],
   "source": [
    "plot_training_returns(returns, N=5)"
   ]
  },
  {
   "cell_type": "markdown",
   "metadata": {},
   "source": [
    "# TD Agent Class"
   ]
  },
  {
   "cell_type": "code",
   "execution_count": 9,
   "metadata": {},
   "outputs": [],
   "source": [
    "class TDAgent():\n",
    "    '''\n",
    "    Class for agents which can be trained using SARSA and Q-learning\n",
    "    '''\n",
    "    \n",
    "    def __init__(self, env, gamma=0.9, epsilon=0.1, alpha=0.1):\n",
    "        self.env = env\n",
    "\n",
    "        # Agent parameters\n",
    "        self.gamma = gamma\n",
    "        self.alpha = alpha\n",
    "\n",
    "        # The base value of epsilon. \n",
    "        # TDAgent.epsilon is decayed with iterations while training\n",
    "        self.epsilon_base = epsilon\n",
    "        self.epsilon = epsilon\n",
    "        \n",
    "        # Action space \n",
    "        self.actions = [a for a in range(38)]\n",
    "\n",
    "        # The state-action value table. Since there is only one state,\n",
    "        # Q is a table only over the actions\n",
    "        self.Q = [0.0 for action in self.actions]\n",
    "\n",
    "        # An epsilon greedy policy over self.Q\n",
    "        self.policy = [1/len(self.actions) for action in self.actions]\n",
    "\n",
    "    # Print the Q values\n",
    "    def printValues(self):\n",
    "        for action in self.actions:\n",
    "            print(self.Q[action], end=\" \")\n",
    "        print()\n",
    "\n",
    "    # Print the policy\n",
    "    def printPolicy(self):\n",
    "        for action in self.actions:\n",
    "            print(self.policy[action], end=\" \")\n",
    "        print()\n",
    "\n",
    "    # Reset the Q table and other parameters before training\n",
    "    def reset(self):\n",
    "        self.Q = [0.0 for action in self.actions]\n",
    "        self.epsilon = self.epsilon_base\n",
    "        self.policy = [1/len(self.actions) for action in self.actions]\n",
    "\n",
    "    # Returns action with the greatest self.Q value. In case of tie, action is chosen\n",
    "    # randomly from available actions\n",
    "    def greedy_action(self):\n",
    "        max_action_value = np.max(self.Q)\n",
    "        optimal_actions = [action for action in self.actions if self.Q[action] == max_action_value]\n",
    "        return np.random.choice(optimal_actions)\n",
    "\n",
    "    # Returns a greedy action with probability 1 - self.epsilon\n",
    "    def epsilon_greedy_action(self):\n",
    "        if np.random.random() > self.epsilon:\n",
    "            return self.greedy_action()\n",
    "        else:\n",
    "            return np.random.choice(self.actions)\n",
    "\n",
    "    # Simulate one episode following an epsilon greedy policy based on self.Q \n",
    "    def run(self):\n",
    "        ret = 0\n",
    "        done = False\n",
    "        self.env.reset()\n",
    "        while not done:\n",
    "            action = self.epsilon_greedy_action()\n",
    "            observation, reward, done, info = env.step(action)\n",
    "            ret = self.gamma*ret + reward\n",
    "        return ret\n",
    "\n",
    "    # Calculate and update self.policy as a self.epsilon greedy policy over self.Q\n",
    "    def calculate_greedy_policy(self):\n",
    "        for action in self.actions:\n",
    "            self.policy[action] = self.epsilon / len(self.actions)\n",
    "        self.policy[np.argmax(self.Q)] += 1 - self.epsilon\n",
    "\n",
    "    # Make SARSA updates over one simulated episode\n",
    "    def update_sarsa(self):\n",
    "        self.env.reset()\n",
    "        curr_action = self.epsilon_greedy_action()\n",
    "        done = False\n",
    "        while not done:\n",
    "            next_state, reward, done, info = self.env.step(curr_action)\n",
    "            next_action = self.epsilon_greedy_action()\n",
    "            self.Q[curr_action] = self.Q[curr_action] + self.alpha * (reward + self.gamma * self.Q[next_action] - self.Q[curr_action])\n",
    "            curr_action = next_action\n",
    "    \n",
    "    # Train using SARSA for num_iters number of episodes\n",
    "    # Returns a list average returns after each episode of training\n",
    "    def train_sarsa(self, num_iters=1000, num_runs=10):\n",
    "        self.reset()\n",
    "        rets = []\n",
    "        for iteration in range(1, num_iters+1):\n",
    "            self.update_sarsa()\n",
    "            runs = [self.run() for _ in range(num_runs)]\n",
    "            ret = np.mean(runs)\n",
    "            rets.append(ret)\n",
    "            self.epsilon = self.epsilon_base / iteration\n",
    "        self.calculate_greedy_policy()\n",
    "        return rets\n",
    "\n",
    "    # Make Q-learning updates over one simulated episode\n",
    "    def update_q_learning(self):\n",
    "        self.env.reset()\n",
    "        done = False\n",
    "        while not done:\n",
    "            action = self.epsilon_greedy_action()\n",
    "            next_state, reward, done, info = self.env.step(action)\n",
    "            self.Q[action] = self.Q[action] + self.alpha * (reward + self.gamma * self.Q[self.greedy_action()] - self.Q[action])\n",
    "    \n",
    "    # Train using Q-learning for num_iters number of episodes\n",
    "    # Returns a list average returns after each episode of training\n",
    "    def train_q_learning(self, num_iters=1000, num_runs=10):\n",
    "        self.reset()\n",
    "        rets = []\n",
    "        for iteration in range(1, num_iters+1):\n",
    "            self.update_q_learning()\n",
    "            runs = [self.run() for _ in range(num_runs)]\n",
    "            ret = np.mean(runs)\n",
    "            rets.append(ret)\n",
    "            self.epsilon = self.epsilon_base / iteration\n",
    "        self.calculate_greedy_policy()\n",
    "        return rets"
   ]
  },
  {
   "cell_type": "markdown",
   "metadata": {},
   "source": [
    "## Q learning Agent"
   ]
  },
  {
   "cell_type": "code",
   "execution_count": 10,
   "metadata": {},
   "outputs": [],
   "source": [
    "# Define and train an agent\n",
    "q_learning_agent = TDAgent(env)\n",
    "returns = q_learning_agent.train_q_learning(num_iters=100)"
   ]
  },
  {
   "cell_type": "code",
   "execution_count": 11,
   "metadata": {},
   "outputs": [
    {
     "data": {
      "image/png": "[encoded data removed]",
      "text/plain": [
       "<Figure size 432x288 with 1 Axes>"
      ]
     },
     "metadata": {
      "needs_background": "light"
     },
     "output_type": "display_data"
    }
   ],
   "source": [
    "# Plot returns \n",
    "plot_training_returns(returns)"
   ]
  },
  {
   "cell_type": "markdown",
   "metadata": {},
   "source": [
    "## SARSA Agent"
   ]
  },
  {
   "cell_type": "code",
   "execution_count": 12,
   "metadata": {},
   "outputs": [],
   "source": [
    "# Define and train an agent\n",
    "sarsa_agent = TDAgent(env)\n",
    "returns = sarsa_agent.train_sarsa(num_iters=100)"
   ]
  },
  {
   "cell_type": "code",
   "execution_count": 13,
   "metadata": {},
   "outputs": [
    {
     "data": {
      "image/png": "[encoded data removed]",
      "text/plain": [
       "<Figure size 432x288 with 1 Axes>"
      ]
     },
     "metadata": {
      "needs_background": "light"
     },
     "output_type": "display_data"
    }
   ],
   "source": [
    "# Plot returns \n",
    "plot_training_returns(returns)"
   ]
  },
  {
   "cell_type": "markdown",
   "metadata": {},
   "source": [
    "# Conclusions"
   ]
  },
  {
   "cell_type": "markdown",
   "metadata": {},
   "source": [
    "- SARSA and Q learning agents performed better than the Monte Carlo agents (both on and off policy).\n",
    "- SARSA and Q learning agents were seen to converge in less than 100 episodes each, whereas the Monte Carlo methods took much longer.\n",
    "- On policy Monte Carlo converged faster than Off Policy Monte Carlo\n",
    "- Off Policy Monte Carlo ultimately did not seem to converge in the given number of iterations and it is possible that it will take many more iterations to find the optimal policy.\n",
    "- The other three methods find the optimal policy successfully, which is to not play Roulette at all and exit on the first turn"
   ]
  }
 ],
 "metadata": {
  "interpreter": {
   "hash": "2a31edf32cff4a1020f46be9a228b80b96635f211262e5512e65d0aacd090ec5"
  },
  "kernelspec": {
   "display_name": "Python 3",
   "language": "python",
   "name": "python3"
  },
  "language_info": {
   "codemirror_mode": {
    "name": "ipython",
    "version": 3
   },
   "file_extension": ".py",
   "mimetype": "text/x-python",
   "name": "python",
   "nbconvert_exporter": "python",
   "pygments_lexer": "ipython3",
   "version": "3.8.10"
  }
 },
 "nbformat": 4,
 "nbformat_minor": 2
}
