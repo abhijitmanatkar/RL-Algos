{
 "cells": [
  {
   "cell_type": "code",
   "execution_count": 1,
   "metadata": {},
   "outputs": [],
   "source": [
    "import gym\n",
    "import numpy as np\n",
    "from matplotlib import pyplot as plt"
   ]
  },
  {
   "cell_type": "code",
   "execution_count": 2,
   "metadata": {},
   "outputs": [],
   "source": [
    "# The environment\n",
    "env = gym.make('CliffWalking-v0')"
   ]
  },
  {
   "cell_type": "code",
   "execution_count": 3,
   "metadata": {},
   "outputs": [],
   "source": [
    "# Some utility definitions\n",
    "UP, RIGHT, DOWN, LEFT = 0, 1, 2, 3\n",
    "P = ['U', 'R', 'D', 'L']\n",
    "INF = 99999999"
   ]
  },
  {
   "cell_type": "markdown",
   "metadata": {},
   "source": [
    "## Plotting Utils"
   ]
  },
  {
   "cell_type": "code",
   "execution_count": 4,
   "metadata": {},
   "outputs": [],
   "source": [
    "# Plot the minimum, maximum and average returns over a certain number of episodes\n",
    "def plot_min_max_avg(mins, maxs, avgs, N=10):\n",
    "    x = [i+1 for i in range(len(avgs))]\n",
    "    plt.plot(x, avgs)\n",
    "    plt.plot(x, mins)\n",
    "    plt.plot(x, maxs)\n",
    "    plt.xlabel(\"Number of Episodes\")\n",
    "    plt.ylabel(f\"Returns over N = {N} episodes\")\n",
    "    plt.legend([\"Mean\", \"Min\", \"Max\"])\n",
    "\n",
    "def plot_confused_runs(runs):\n",
    "    x = [i+1 for i in range(len(runs))]\n",
    "    plt.plot(x, runs)\n",
    "    plt.xlabel(\"Episode\")\n",
    "    plt.ylabel(\"Return\")\n",
    "    "
   ]
  },
  {
   "cell_type": "markdown",
   "metadata": {},
   "source": [
    "# General DPAgent Class"
   ]
  },
  {
   "cell_type": "code",
   "execution_count": 5,
   "metadata": {},
   "outputs": [],
   "source": [
    "class DPAgent():\n",
    "    \"\"\"\n",
    "    The general DP Agent. Base class for ValueIterationAgent and PolicyIterationAgent\n",
    "    \"\"\"\n",
    "\n",
    "    # Max loop iterations in case of infinite loop\n",
    "    MAX_ITER = 1000\n",
    "\n",
    "    def __init__(self, env, gamma, theta):\n",
    "        \n",
    "        self.env = env\n",
    "\n",
    "        # The discount factor gamma\n",
    "        self.gamma = gamma\n",
    "\n",
    "        # The factor for determining convergence\n",
    "        self.theta = theta\n",
    "\n",
    "        # Available state and action sets\n",
    "        self.states = np.array([s for s in range(self.env.nS)])\n",
    "        self.actions = np.array([a for a in range(self.env.nA)])\n",
    "\n",
    "        # The state values\n",
    "        self.values = [0.0 for s in range(self.env.nS)]\n",
    "\n",
    "        # The policy followed by the agent\n",
    "        self.policy = [np.random.choice(self.actions) for s in range(self.env.nS)]\n",
    "\n",
    "    # Reset the state values and the policy\n",
    "    def reset(self):\n",
    "        self.values = [0.0 for s in range(self.env.nS)]\n",
    "        self.policy = [np.random.choice(self.actions) for s in range(self.env.nS)]\n",
    "\n",
    "    # Print out state values\n",
    "    def printValues(self):\n",
    "        for i in range(4):\n",
    "            for j in range(12):\n",
    "                print(\"{:.4f}\".format(self.values[i*12 + j]), end=\" \")\n",
    "            print()\n",
    "        print()\n",
    "\n",
    "    # Print out the policy\n",
    "    def printPolicy(self):\n",
    "        for i in range(4):\n",
    "            for j in range(12):\n",
    "                print(P[self.policy[i*12 + j]], end=\" \")\n",
    "            print()\n",
    "        print()\n",
    "\n",
    "    # Return the expected return on taking 'action' in 'state', i.e. Q(state, action)\n",
    "    def state_action_value(self, state, action):\n",
    "        q = 0\n",
    "        transitions = self.env.P[state][action]\n",
    "        for transition in transitions:\n",
    "            prob, next_state, reward, done = transition\n",
    "            q += prob * (reward + self.gamma * self.values[next_state])\n",
    "        return q\n",
    "\n",
    "    # Returns the action with the highest expected return according to the current\n",
    "    # state values. If multiple actions have the highest expected return, \n",
    "    # sample randomly from them.\n",
    "    def greedy_policy(self, state):\n",
    "        action_values = [self.state_action_value(state, action) for action in self.actions]\n",
    "        max_action_value = max(action_values)\n",
    "        optimal_actions = [action for action in self.actions if action_values[action] == max_action_value]\n",
    "        return np.random.choice(optimal_actions)\n",
    "\n",
    "    # Simulate an episode using an epsilon greedy policy based on current state values\n",
    "    def run(self, epsilon=0, printTrajectory=False):\n",
    "        self.env.reset()\n",
    "        ret = 0\n",
    "        curr_state = self.env.start_state_index\n",
    "        if printTrajectory:\n",
    "            print(str(curr_state) + \"-->\", end=\"\")\n",
    "        done = False\n",
    "        iterations = 0\n",
    "        while not done and iterations < self.MAX_ITER:\n",
    "            iterations += 1\n",
    "            if np.random.random() > epsilon:\n",
    "                action = self.greedy_policy(curr_state)\n",
    "            else:\n",
    "                action = np.random.choice(self.actions)\n",
    "            next_state, reward, done, info = self.env.step(action)\n",
    "            ret = self.gamma * ret  + reward\n",
    "            curr_state = next_state\n",
    "            if printTrajectory:\n",
    "                print(str(P[action]) + \"-->\" + str(curr_state) + \"-->\", end=\"\")\n",
    "        if printTrajectory:\n",
    "            print(\"Done\")\n",
    "        return ret\n",
    "\n",
    "    "
   ]
  },
  {
   "cell_type": "markdown",
   "metadata": {},
   "source": [
    "# Class for a Value Iteration Agent"
   ]
  },
  {
   "cell_type": "code",
   "execution_count": 6,
   "metadata": {},
   "outputs": [],
   "source": [
    "class ValueIterationAgent(DPAgent):\n",
    "\n",
    "    def __init__(self, env, gamma=0.9, theta=0.01):\n",
    "        super().__init__(env, gamma, theta)\n",
    "\n",
    "    # Perform one step of value iteration\n",
    "    def update(self):\n",
    "        delta = 0\n",
    "        for state in self.states:\n",
    "            # Skip terminal state\n",
    "            if state == self.env.nS - 1:\n",
    "                continue\n",
    "            v = -INF\n",
    "            for action in self.actions:\n",
    "                v_ = self.state_action_value(state, action)\n",
    "                v = max(v, v_)\n",
    "            delta = max(delta, abs(v - self.values[state]))\n",
    "            self.values[state] = v\n",
    "        return delta\n",
    "\n",
    "    # Perform value iteration until convergence.\n",
    "    # If intermediateRuns == True, then perform runs at every iteration and return \n",
    "    # a list of the return values obtained at each iteration\n",
    "    def train(self, intermediateRuns=False, convergence_criteria=\"theta\", num_iters=10):\n",
    "        \n",
    "        self.reset()\n",
    "        delta = INF\n",
    "        iterations = 0\n",
    "\n",
    "        # Set convergence criteria\n",
    "        if convergence_criteria == \"theta\":\n",
    "            converged = lambda : delta < self.theta\n",
    "        elif convergence_criteria == \"iterations\":\n",
    "            converged = lambda : iterations >= num_iters\n",
    "\n",
    "        # Used if intermediateRuns = True\n",
    "        mins = []\n",
    "        avgs = []\n",
    "        maxs = []\n",
    "        \n",
    "        while not converged() and iterations < self.MAX_ITER:\n",
    "            delta = self.update()\n",
    "            iterations += 1\n",
    "            if intermediateRuns:\n",
    "                num_runs = 25\n",
    "                runs = [self.run(printTrajectory=False) for _ in range(num_runs)]\n",
    "                mins.append(np.min(runs))\n",
    "                avgs.append(np.mean(runs))\n",
    "                maxs.append(np.max(runs))\n",
    "\n",
    "        print(f\"Training finished in {iterations} iterations\")\n",
    "        if intermediateRuns:\n",
    "            return avgs, mins, maxs\n",
    "    \n",
    "        "
   ]
  },
  {
   "cell_type": "markdown",
   "metadata": {},
   "source": [
    "# Class for a Policy Iteration Agent"
   ]
  },
  {
   "cell_type": "code",
   "execution_count": 7,
   "metadata": {},
   "outputs": [],
   "source": [
    "class PolicyIterationAgent(DPAgent):\n",
    "    def __init__(self, env, gamma=0.9, theta=0.01):\n",
    "        super().__init__(env, gamma, theta)\n",
    "    \n",
    "    # Calculate the state values based on current policy\n",
    "    def policy_evaluation(self):\n",
    "        delta = INF\n",
    "        iterations = 0\n",
    "        while delta > self.theta and iterations < self.MAX_ITER:\n",
    "            iterations += 1\n",
    "            delta = 0\n",
    "            for state in self.states:\n",
    "                if state == self.env.nS - 1:\n",
    "                    continue\n",
    "                v_ = self.values[state]\n",
    "                self.values[state] = self.state_action_value(state, self.policy[state])\n",
    "                delta = max(delta, abs(self.values[state] - v_))\n",
    "    \n",
    "    # Calculate the greedy policy based on state values and set that to the new policy.\n",
    "    def policy_improvement(self):\n",
    "        for state in self.states:\n",
    "            if state == self.env.nS - 1:\n",
    "                continue\n",
    "            self.policy[state] = self.greedy_policy(state)\n",
    "            \n",
    "    # Perform one step of policy iteration.\n",
    "    # Returns true if either the state values or policy is stable\n",
    "    def update(self):\n",
    "        old_values = [self.values[state] for state in self.states]\n",
    "        old_policy = [self.policy[state] for state in self.states]\n",
    "        \n",
    "        self.policy_evaluation()\n",
    "        self.policy_improvement()\n",
    "\n",
    "        values_stable = (old_values == self.values)\n",
    "        policy_stable = (old_policy == self.policy)\n",
    "\n",
    "        return (values_stable or policy_stable)\n",
    "\n",
    "    # Perform policy iteration till convegence.\n",
    "    # If intermediateRuns == True, then perform runs at every iteration and return \n",
    "    # a list of the return values obtained at each iteration\n",
    "    def train(self, intermediateRuns=False, convergence_criteria=\"stable\", num_iters=10):\n",
    "        self.reset()\n",
    "        stable = False\n",
    "        iterations = 0\n",
    "\n",
    "        # Set convergence criteria\n",
    "        if convergence_criteria == \"stable\":\n",
    "            converged = lambda : stable\n",
    "        elif convergence_criteria == \"iterations\":\n",
    "            converged = lambda : iterations >= num_iters\n",
    "\n",
    "        # Used if intermediateRuns = True\n",
    "        mins = []\n",
    "        avgs = []\n",
    "        maxs = []\n",
    "        \n",
    "        while not converged() and iterations < self.MAX_ITER:\n",
    "            stable = self.update()\n",
    "            iterations += 1\n",
    "            if intermediateRuns:\n",
    "                num_runs = 25\n",
    "                runs = [self.run(printTrajectory=False) for _ in range(num_runs)]\n",
    "                mins.append(np.min(runs))\n",
    "                avgs.append(np.mean(runs))\n",
    "                maxs.append(np.max(runs))\n",
    "\n",
    "        print(f\"Training finished in {iterations} iterations\")\n",
    "        if intermediateRuns:\n",
    "            return avgs, mins, maxs\n",
    "        \n"
   ]
  },
  {
   "cell_type": "markdown",
   "metadata": {},
   "source": [
    "# Confused Agent Class"
   ]
  },
  {
   "cell_type": "code",
   "execution_count": 8,
   "metadata": {},
   "outputs": [],
   "source": [
    "class ConfusedAgent():\n",
    "    def __init__(self, env, gamma=0.9):\n",
    "        self.env = env\n",
    "        self.gamma = gamma\n",
    "        self.MAX_ITER = 1000\n",
    "        self.states = np.array([s for s in range(self.env.nS)])\n",
    "        self.actions = np.array([a for a in range(self.env.nA)])\n",
    "\n",
    "    def run(self):\n",
    "        self.env.reset()\n",
    "        ret = 0\n",
    "        curr_state = self.env.start_state_index\n",
    "        done = False\n",
    "        iterations = 0\n",
    "        while not done and iterations < self.MAX_ITER:\n",
    "            iterations += 1\n",
    "            action = np.random.choice(self.actions)\n",
    "            next_state, reward, done, info = self.env.step(action)\n",
    "            ret = self.gamma * ret  + reward\n",
    "            curr_state = next_state\n",
    "        return ret"
   ]
  },
  {
   "cell_type": "markdown",
   "metadata": {},
   "source": [
    "# Comparison of Agents"
   ]
  },
  {
   "cell_type": "code",
   "execution_count": 9,
   "metadata": {},
   "outputs": [],
   "source": [
    "# Creating agents\n",
    "value_iteration_agent = ValueIterationAgent(env)\n",
    "policy_iteration_agent = PolicyIterationAgent(env)\n",
    "confused_agent = ConfusedAgent(env)"
   ]
  },
  {
   "cell_type": "markdown",
   "metadata": {},
   "source": [
    "## Performance of Value Iteration Agent"
   ]
  },
  {
   "cell_type": "code",
   "execution_count": 10,
   "metadata": {},
   "outputs": [
    {
     "name": "stdout",
     "output_type": "stream",
     "text": [
      "Training finished in 15 iterations\n"
     ]
    },
    {
     "data": {
      "image/png": "[encoded data removed]",
      "text/plain": [
       "<Figure size 432x288 with 1 Axes>"
      ]
     },
     "metadata": {
      "needs_background": "light"
     },
     "output_type": "display_data"
    }
   ],
   "source": [
    "# Train agent\n",
    "avgs, mins, maxs = value_iteration_agent.train(intermediateRuns=True)\n",
    "\n",
    "# Plot results\n",
    "plot_min_max_avg(mins, maxs, avgs, N=25)"
   ]
  },
  {
   "cell_type": "markdown",
   "metadata": {},
   "source": [
    "## Performance of Policy Iteration Agent"
   ]
  },
  {
   "cell_type": "code",
   "execution_count": 11,
   "metadata": {},
   "outputs": [
    {
     "name": "stdout",
     "output_type": "stream",
     "text": [
      "Training finished in 14 iterations\n"
     ]
    },
    {
     "data": {
      "image/png": "[encoded data removed]",
      "text/plain": [
       "<Figure size 432x288 with 1 Axes>"
      ]
     },
     "metadata": {
      "needs_background": "light"
     },
     "output_type": "display_data"
    }
   ],
   "source": [
    "# Train agent\n",
    "avgs, mins, maxs = policy_iteration_agent.train(intermediateRuns=True)\n",
    "\n",
    "# Plot results\n",
    "plot_min_max_avg(mins, maxs, avgs, N=25)"
   ]
  },
  {
   "cell_type": "markdown",
   "metadata": {},
   "source": [
    "## Performance of Confused Agent"
   ]
  },
  {
   "cell_type": "code",
   "execution_count": 12,
   "metadata": {},
   "outputs": [
    {
     "name": "stdout",
     "output_type": "stream",
     "text": [
      "Average: -72.62568051689084\n",
      "Minimum: -319.7137435990593\n",
      "Max: -10.003204180723836\n"
     ]
    },
    {
     "data": {
      "image/png": "[encoded data removed]",
      "text/plain": [
       "<Figure size 432x288 with 1 Axes>"
      ]
     },
     "metadata": {
      "needs_background": "light"
     },
     "output_type": "display_data"
    }
   ],
   "source": [
    "number_of_runs = 50\n",
    "runs = [confused_agent.run() for i in range(number_of_runs)]\n",
    "plot_confused_runs(runs)\n",
    "print(\"Average:\", np.mean(runs))\n",
    "print(\"Minimum:\", np.min(runs))\n",
    "print(\"Max:\", np.max(runs))"
   ]
  },
  {
   "cell_type": "markdown",
   "metadata": {},
   "source": [
    "## Comparison\n",
    "\n",
    "Clearly, the Policy and Value Iteration agents perform better than the Confused agent"
   ]
  },
  {
   "cell_type": "markdown",
   "metadata": {},
   "source": [
    "# Different values of gamma"
   ]
  },
  {
   "cell_type": "code",
   "execution_count": 13,
   "metadata": {},
   "outputs": [
    {
     "name": "stdout",
     "output_type": "stream",
     "text": [
      "Training finished in 3 iterations\n",
      "Training finished in 16 iterations\n",
      "Training finished in 11 iterations\n",
      "Training finished in 11 iterations\n",
      "Training finished in 12 iterations\n"
     ]
    }
   ],
   "source": [
    "# Defining and training the agents\n",
    "gammas = [0, 0.1, 0.5, 0.75, 1]\n",
    "agents = [PolicyIterationAgent(env, gamma=gamma) for gamma in gammas]\n",
    "for agent in agents:\n",
    "    agent.train()"
   ]
  },
  {
   "cell_type": "code",
   "execution_count": 14,
   "metadata": {},
   "outputs": [
    {
     "name": "stdout",
     "output_type": "stream",
     "text": [
      "Policy for agent with gamma = 0:\n",
      "R U L L D L L L D R L U \n",
      "U R L D R D R D D L L R \n",
      "L L L L U U U R U R U R \n",
      "L L U U U U U U U U U R \n",
      "\n",
      "Policy for agent with gamma = 0.1:\n",
      "R R D D R D R R D D D D \n",
      "R D D R R D R R R R R D \n",
      "R R R R R R R R R R R D \n",
      "U U U U U U U U U U R R \n",
      "\n",
      "Policy for agent with gamma = 0.5:\n",
      "D R R R R R D D D R D D \n",
      "R D R D R R D D R R D D \n",
      "R R R R R R R R R R R D \n",
      "U U U U U U U U U U R R \n",
      "\n",
      "Policy for agent with gamma = 0.75:\n",
      "R R D D D R R D D D D D \n",
      "D R R R R R D D D R D D \n",
      "R R R R R R R R R R R D \n",
      "U U U U U U U U U U R D \n",
      "\n",
      "Policy for agent with gamma = 1:\n",
      "R R D D R R D R R D D D \n",
      "D D R R D D D D R D D D \n",
      "R R R R R R R R R R R D \n",
      "U U U U U U U U U U R R \n",
      "\n"
     ]
    }
   ],
   "source": [
    "# Comparing Policies\n",
    "for i in range(5):\n",
    "    print(f\"Policy for agent with gamma = {gammas[i]}:\")\n",
    "    agents[i].printPolicy()"
   ]
  }
 ],
 "metadata": {
  "interpreter": {
   "hash": "2a31edf32cff4a1020f46be9a228b80b96635f211262e5512e65d0aacd090ec5"
  },
  "kernelspec": {
   "display_name": "Python 3",
   "language": "python",
   "name": "python3"
  },
  "language_info": {
   "codemirror_mode": {
    "name": "ipython",
    "version": 3
   },
   "file_extension": ".py",
   "mimetype": "text/x-python",
   "name": "python",
   "nbconvert_exporter": "python",
   "pygments_lexer": "ipython3",
   "version": "3.8.10"
  }
 },
 "nbformat": 4,
 "nbformat_minor": 2
}
